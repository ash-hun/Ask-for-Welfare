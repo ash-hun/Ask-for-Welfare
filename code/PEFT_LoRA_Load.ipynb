{
  "cells": [
    {
      "cell_type": "code",
      "execution_count": null,
      "metadata": {
        "colab": {
          "base_uri": "https://localhost:8080/"
        },
        "id": "7crJC7X_eb1v",
        "outputId": "824a149b-3a46-4183-971e-dafdd9385065"
      },
      "outputs": [
        {
          "name": "stdout",
          "output_type": "stream",
          "text": [
            "Mon Dec 18 04:17:23 2023       \n",
            "+---------------------------------------------------------------------------------------+\n",
            "| NVIDIA-SMI 535.104.05             Driver Version: 535.104.05   CUDA Version: 12.2     |\n",
            "|-----------------------------------------+----------------------+----------------------+\n",
            "| GPU  Name                 Persistence-M | Bus-Id        Disp.A | Volatile Uncorr. ECC |\n",
            "| Fan  Temp   Perf          Pwr:Usage/Cap |         Memory-Usage | GPU-Util  Compute M. |\n",
            "|                                         |                      |               MIG M. |\n",
            "|=========================================+======================+======================|\n",
            "|   0  Tesla T4                       Off | 00000000:00:04.0 Off |                    0 |\n",
            "| N/A   61C    P8              11W /  70W |      0MiB / 15360MiB |      0%      Default |\n",
            "|                                         |                      |                  N/A |\n",
            "+-----------------------------------------+----------------------+----------------------+\n",
            "                                                                                         \n",
            "+---------------------------------------------------------------------------------------+\n",
            "| Processes:                                                                            |\n",
            "|  GPU   GI   CI        PID   Type   Process name                            GPU Memory |\n",
            "|        ID   ID                                                             Usage      |\n",
            "|=======================================================================================|\n",
            "|  No running processes found                                                           |\n",
            "+---------------------------------------------------------------------------------------+\n"
          ]
        }
      ],
      "source": [
        "!nvidia-smi"
      ]
    },
    {
      "cell_type": "code",
      "execution_count": null,
      "metadata": {
        "colab": {
          "base_uri": "https://localhost:8080/"
        },
        "id": "o186Sm7Uef5V",
        "outputId": "3dc6e6cf-e198-458a-adea-076d7ac5a0b8"
      },
      "outputs": [
        {
          "name": "stdout",
          "output_type": "stream",
          "text": [
            "\u001b[2K     \u001b[90m━━━━━━━━━━━━━━━━━━━━━━━━━━━━━━━━━━━━━━━━\u001b[0m \u001b[32m92.6/92.6 MB\u001b[0m \u001b[31m9.5 MB/s\u001b[0m eta \u001b[36m0:00:00\u001b[0m\n",
            "\u001b[?25h  Installing build dependencies ... \u001b[?25l\u001b[?25hdone\n",
            "  Getting requirements to build wheel ... \u001b[?25l\u001b[?25hdone\n",
            "  Preparing metadata (pyproject.toml) ... \u001b[?25l\u001b[?25hdone\n",
            "  Building wheel for transformers (pyproject.toml) ... \u001b[?25l\u001b[?25hdone\n",
            "  Installing build dependencies ... \u001b[?25l\u001b[?25hdone\n",
            "  Getting requirements to build wheel ... \u001b[?25l\u001b[?25hdone\n",
            "  Preparing metadata (pyproject.toml) ... \u001b[?25l\u001b[?25hdone\n",
            "\u001b[2K     \u001b[90m━━━━━━━━━━━━━━━━━━━━━━━━━━━━━━━━━━━━━━━━\u001b[0m \u001b[32m265.7/265.7 kB\u001b[0m \u001b[31m5.3 MB/s\u001b[0m eta \u001b[36m0:00:00\u001b[0m\n",
            "\u001b[?25h  Building wheel for peft (pyproject.toml) ... \u001b[?25l\u001b[?25hdone\n",
            "  Installing build dependencies ... \u001b[?25l\u001b[?25hdone\n",
            "  Getting requirements to build wheel ... \u001b[?25l\u001b[?25hdone\n",
            "  Preparing metadata (pyproject.toml) ... \u001b[?25l\u001b[?25hdone\n",
            "  Building wheel for accelerate (pyproject.toml) ... \u001b[?25l\u001b[?25hdone\n"
          ]
        }
      ],
      "source": [
        "!pip install -q -U bitsandbytes\n",
        "!pip install -q -U git+https://github.com/huggingface/transformers.git\n",
        "!pip install -q -U git+https://github.com/huggingface/peft.git\n",
        "!pip install -q -U git+https://github.com/huggingface/accelerate.git\n",
        "!pip install -q datasets"
      ]
    },
    {
      "cell_type": "code",
      "execution_count": null,
      "metadata": {
        "id": "VgCKqAXMekYz"
      },
      "outputs": [],
      "source": [
        "import torch\n",
        "from transformers import AutoTokenizer, AutoModelForCausalLM, BitsAndBytesConfig"
      ]
    },
    {
      "cell_type": "code",
      "execution_count": null,
      "metadata": {
        "id": "GlZv-twPerjy"
      },
      "outputs": [],
      "source": [
        "from peft import PeftModel, PeftConfig"
      ]
    },
    {
      "cell_type": "code",
      "execution_count": null,
      "metadata": {
        "colab": {
          "background_save": true,
          "referenced_widgets": [
            "14295a27d0a84628b2db2d06eb5976a6",
            "d75605b3ac2046bfbda921a4eac776a1",
            "090c20bfb94e41179b9d61cc8598451d",
            "32cc1539036d4fcd8ea1578de15e1cc7",
            "eb92670a81c94c5d9a1713bd6578e282",
            "af36f8726d00446ca82b65e08f06329c",
            "633e91838d254c0b9d68f35f89946c7b",
            "c8299afdc3f64954b8ed9bb9eeca909e",
            "507ae47d15f54147bc4b034a04ba6360",
            "e9c01f5a1b9f4e7082084355cf634b96",
            "d858b01fe8ac4425b0cacd2b721e4bf2",
            "4d71927065f0469eb3469fa56e96d0cc",
            "3227563f1a30454aacff2ae9ba6f9fe7",
            "96a117a9b4a24059a8012b485b35dc68",
            "d19774c947a84bde9a657d8b5b1fb479",
            "9353c399de36440581e2575377ddb167",
            "ca5b256300c1426d92d03fbf9cc31d85",
            "f2359017ad7542bfb568f6b6f3f5ee62",
            "45b7efb71fe544079dec07fc186add65",
            "af5af9a13d934d8e800d4bbe1fed20e9",
            "6c6111ab92a941908c12bd7421a9a323",
            "3a3fe70d7dc54283a330e3af4ad03154",
            "454eb059eaec47bd8ad55f5a151dcb2b",
            "3028a25e3d17472aa1c56aa34a704536",
            "95e4069223a74f268f4238d6b4fed6fc",
            "03652e656e924f51a9b7fa834026e217",
            "5a805da0ad514b23ad0586097f2039fb",
            "d6f491e46b664844affe14385dd7fa86",
            "618dadbf07bc4a079f0e4bc5d094b118",
            "96a08eb7f4cf4cbebb8e2128f93899df",
            "7020c4f16cf941528944294527157b81",
            "3dca4540212b4f7eb9cd556de68243bb",
            "f04b6f5da3c541068b66249f52a7f4a3",
            "0fb6a3450eaa4c5d8ac710501b89d631",
            "627a6e39be3a4ff29441dfa4b94f535e",
            "04218c4dc9af4a7097dabe62e022eab1",
            "473cbbcd517c4c28973e771a27524712",
            "2e9687bf707a476faa9dae475c681ad2"
          ]
        },
        "id": "gYf0UQ3fetzP",
        "outputId": "cbc75c97-7ad4-4df4-8fef-ec153260abd8"
      },
      "outputs": [
        {
          "data": {
            "application/vnd.jupyter.widget-view+json": {
              "model_id": "14295a27d0a84628b2db2d06eb5976a6",
              "version_major": 2,
              "version_minor": 0
            },
            "text/plain": [
              "adapter_config.json:   0%|          | 0.00/519 [00:00<?, ?B/s]"
            ]
          },
          "metadata": {},
          "output_type": "display_data"
        },
        {
          "data": {
            "application/vnd.jupyter.widget-view+json": {
              "model_id": "d75605b3ac2046bfbda921a4eac776a1",
              "version_major": 2,
              "version_minor": 0
            },
            "text/plain": [
              "config.json:   0%|          | 0.00/686 [00:00<?, ?B/s]"
            ]
          },
          "metadata": {},
          "output_type": "display_data"
        },
        {
          "data": {
            "application/vnd.jupyter.widget-view+json": {
              "model_id": "090c20bfb94e41179b9d61cc8598451d",
              "version_major": 2,
              "version_minor": 0
            },
            "text/plain": [
              "model.safetensors.index.json:   0%|          | 0.00/52.5k [00:00<?, ?B/s]"
            ]
          },
          "metadata": {},
          "output_type": "display_data"
        },
        {
          "data": {
            "application/vnd.jupyter.widget-view+json": {
              "model_id": "32cc1539036d4fcd8ea1578de15e1cc7",
              "version_major": 2,
              "version_minor": 0
            },
            "text/plain": [
              "Downloading shards:   0%|          | 0/28 [00:00<?, ?it/s]"
            ]
          },
          "metadata": {},
          "output_type": "display_data"
        },
        {
          "data": {
            "application/vnd.jupyter.widget-view+json": {
              "model_id": "eb92670a81c94c5d9a1713bd6578e282",
              "version_major": 2,
              "version_minor": 0
            },
            "text/plain": [
              "model-00001-of-00028.safetensors:   0%|          | 0.00/946M [00:00<?, ?B/s]"
            ]
          },
          "metadata": {},
          "output_type": "display_data"
        },
        {
          "data": {
            "application/vnd.jupyter.widget-view+json": {
              "model_id": "af36f8726d00446ca82b65e08f06329c",
              "version_major": 2,
              "version_minor": 0
            },
            "text/plain": [
              "model-00002-of-00028.safetensors:   0%|          | 0.00/843M [00:00<?, ?B/s]"
            ]
          },
          "metadata": {},
          "output_type": "display_data"
        },
        {
          "data": {
            "application/vnd.jupyter.widget-view+json": {
              "model_id": "633e91838d254c0b9d68f35f89946c7b",
              "version_major": 2,
              "version_minor": 0
            },
            "text/plain": [
              "model-00003-of-00028.safetensors:   0%|          | 0.00/843M [00:00<?, ?B/s]"
            ]
          },
          "metadata": {},
          "output_type": "display_data"
        },
        {
          "data": {
            "application/vnd.jupyter.widget-view+json": {
              "model_id": "c8299afdc3f64954b8ed9bb9eeca909e",
              "version_major": 2,
              "version_minor": 0
            },
            "text/plain": [
              "model-00004-of-00028.safetensors:   0%|          | 0.00/1.00G [00:00<?, ?B/s]"
            ]
          },
          "metadata": {},
          "output_type": "display_data"
        },
        {
          "data": {
            "application/vnd.jupyter.widget-view+json": {
              "model_id": "507ae47d15f54147bc4b034a04ba6360",
              "version_major": 2,
              "version_minor": 0
            },
            "text/plain": [
              "model-00005-of-00028.safetensors:   0%|          | 0.00/896M [00:00<?, ?B/s]"
            ]
          },
          "metadata": {},
          "output_type": "display_data"
        },
        {
          "data": {
            "application/vnd.jupyter.widget-view+json": {
              "model_id": "e9c01f5a1b9f4e7082084355cf634b96",
              "version_major": 2,
              "version_minor": 0
            },
            "text/plain": [
              "model-00006-of-00028.safetensors:   0%|          | 0.00/1.00G [00:00<?, ?B/s]"
            ]
          },
          "metadata": {},
          "output_type": "display_data"
        },
        {
          "data": {
            "application/vnd.jupyter.widget-view+json": {
              "model_id": "d858b01fe8ac4425b0cacd2b721e4bf2",
              "version_major": 2,
              "version_minor": 0
            },
            "text/plain": [
              "model-00007-of-00028.safetensors:   0%|          | 0.00/896M [00:00<?, ?B/s]"
            ]
          },
          "metadata": {},
          "output_type": "display_data"
        },
        {
          "data": {
            "application/vnd.jupyter.widget-view+json": {
              "model_id": "4d71927065f0469eb3469fa56e96d0cc",
              "version_major": 2,
              "version_minor": 0
            },
            "text/plain": [
              "model-00008-of-00028.safetensors:   0%|          | 0.00/1.00G [00:00<?, ?B/s]"
            ]
          },
          "metadata": {},
          "output_type": "display_data"
        },
        {
          "data": {
            "application/vnd.jupyter.widget-view+json": {
              "model_id": "3227563f1a30454aacff2ae9ba6f9fe7",
              "version_major": 2,
              "version_minor": 0
            },
            "text/plain": [
              "model-00009-of-00028.safetensors:   0%|          | 0.00/896M [00:00<?, ?B/s]"
            ]
          },
          "metadata": {},
          "output_type": "display_data"
        },
        {
          "data": {
            "application/vnd.jupyter.widget-view+json": {
              "model_id": "96a117a9b4a24059a8012b485b35dc68",
              "version_major": 2,
              "version_minor": 0
            },
            "text/plain": [
              "model-00010-of-00028.safetensors:   0%|          | 0.00/1.00G [00:00<?, ?B/s]"
            ]
          },
          "metadata": {},
          "output_type": "display_data"
        },
        {
          "data": {
            "application/vnd.jupyter.widget-view+json": {
              "model_id": "d19774c947a84bde9a657d8b5b1fb479",
              "version_major": 2,
              "version_minor": 0
            },
            "text/plain": [
              "model-00011-of-00028.safetensors:   0%|          | 0.00/896M [00:00<?, ?B/s]"
            ]
          },
          "metadata": {},
          "output_type": "display_data"
        },
        {
          "data": {
            "application/vnd.jupyter.widget-view+json": {
              "model_id": "9353c399de36440581e2575377ddb167",
              "version_major": 2,
              "version_minor": 0
            },
            "text/plain": [
              "model-00012-of-00028.safetensors:   0%|          | 0.00/1.00G [00:00<?, ?B/s]"
            ]
          },
          "metadata": {},
          "output_type": "display_data"
        },
        {
          "data": {
            "application/vnd.jupyter.widget-view+json": {
              "model_id": "ca5b256300c1426d92d03fbf9cc31d85",
              "version_major": 2,
              "version_minor": 0
            },
            "text/plain": [
              "model-00013-of-00028.safetensors:   0%|          | 0.00/896M [00:00<?, ?B/s]"
            ]
          },
          "metadata": {},
          "output_type": "display_data"
        },
        {
          "data": {
            "application/vnd.jupyter.widget-view+json": {
              "model_id": "f2359017ad7542bfb568f6b6f3f5ee62",
              "version_major": 2,
              "version_minor": 0
            },
            "text/plain": [
              "model-00014-of-00028.safetensors:   0%|          | 0.00/1.00G [00:00<?, ?B/s]"
            ]
          },
          "metadata": {},
          "output_type": "display_data"
        },
        {
          "data": {
            "application/vnd.jupyter.widget-view+json": {
              "model_id": "45b7efb71fe544079dec07fc186add65",
              "version_major": 2,
              "version_minor": 0
            },
            "text/plain": [
              "model-00015-of-00028.safetensors:   0%|          | 0.00/896M [00:00<?, ?B/s]"
            ]
          },
          "metadata": {},
          "output_type": "display_data"
        },
        {
          "data": {
            "application/vnd.jupyter.widget-view+json": {
              "model_id": "af5af9a13d934d8e800d4bbe1fed20e9",
              "version_major": 2,
              "version_minor": 0
            },
            "text/plain": [
              "model-00016-of-00028.safetensors:   0%|          | 0.00/1.00G [00:00<?, ?B/s]"
            ]
          },
          "metadata": {},
          "output_type": "display_data"
        },
        {
          "data": {
            "application/vnd.jupyter.widget-view+json": {
              "model_id": "6c6111ab92a941908c12bd7421a9a323",
              "version_major": 2,
              "version_minor": 0
            },
            "text/plain": [
              "model-00017-of-00028.safetensors:   0%|          | 0.00/896M [00:00<?, ?B/s]"
            ]
          },
          "metadata": {},
          "output_type": "display_data"
        },
        {
          "data": {
            "application/vnd.jupyter.widget-view+json": {
              "model_id": "3a3fe70d7dc54283a330e3af4ad03154",
              "version_major": 2,
              "version_minor": 0
            },
            "text/plain": [
              "model-00018-of-00028.safetensors:   0%|          | 0.00/1.00G [00:00<?, ?B/s]"
            ]
          },
          "metadata": {},
          "output_type": "display_data"
        },
        {
          "data": {
            "application/vnd.jupyter.widget-view+json": {
              "model_id": "454eb059eaec47bd8ad55f5a151dcb2b",
              "version_major": 2,
              "version_minor": 0
            },
            "text/plain": [
              "model-00019-of-00028.safetensors:   0%|          | 0.00/896M [00:00<?, ?B/s]"
            ]
          },
          "metadata": {},
          "output_type": "display_data"
        },
        {
          "data": {
            "application/vnd.jupyter.widget-view+json": {
              "model_id": "3028a25e3d17472aa1c56aa34a704536",
              "version_major": 2,
              "version_minor": 0
            },
            "text/plain": [
              "model-00020-of-00028.safetensors:   0%|          | 0.00/1.00G [00:00<?, ?B/s]"
            ]
          },
          "metadata": {},
          "output_type": "display_data"
        },
        {
          "data": {
            "application/vnd.jupyter.widget-view+json": {
              "model_id": "95e4069223a74f268f4238d6b4fed6fc",
              "version_major": 2,
              "version_minor": 0
            },
            "text/plain": [
              "model-00021-of-00028.safetensors:   0%|          | 0.00/896M [00:00<?, ?B/s]"
            ]
          },
          "metadata": {},
          "output_type": "display_data"
        },
        {
          "data": {
            "application/vnd.jupyter.widget-view+json": {
              "model_id": "03652e656e924f51a9b7fa834026e217",
              "version_major": 2,
              "version_minor": 0
            },
            "text/plain": [
              "model-00022-of-00028.safetensors:   0%|          | 0.00/1.00G [00:00<?, ?B/s]"
            ]
          },
          "metadata": {},
          "output_type": "display_data"
        },
        {
          "data": {
            "application/vnd.jupyter.widget-view+json": {
              "model_id": "5a805da0ad514b23ad0586097f2039fb",
              "version_major": 2,
              "version_minor": 0
            },
            "text/plain": [
              "model-00023-of-00028.safetensors:   0%|          | 0.00/896M [00:00<?, ?B/s]"
            ]
          },
          "metadata": {},
          "output_type": "display_data"
        },
        {
          "data": {
            "application/vnd.jupyter.widget-view+json": {
              "model_id": "d6f491e46b664844affe14385dd7fa86",
              "version_major": 2,
              "version_minor": 0
            },
            "text/plain": [
              "model-00024-of-00028.safetensors:   0%|          | 0.00/1.00G [00:00<?, ?B/s]"
            ]
          },
          "metadata": {},
          "output_type": "display_data"
        },
        {
          "data": {
            "application/vnd.jupyter.widget-view+json": {
              "model_id": "618dadbf07bc4a079f0e4bc5d094b118",
              "version_major": 2,
              "version_minor": 0
            },
            "text/plain": [
              "model-00025-of-00028.safetensors:   0%|          | 0.00/896M [00:00<?, ?B/s]"
            ]
          },
          "metadata": {},
          "output_type": "display_data"
        },
        {
          "data": {
            "application/vnd.jupyter.widget-view+json": {
              "model_id": "96a08eb7f4cf4cbebb8e2128f93899df",
              "version_major": 2,
              "version_minor": 0
            },
            "text/plain": [
              "model-00026-of-00028.safetensors:   0%|          | 0.00/1.00G [00:00<?, ?B/s]"
            ]
          },
          "metadata": {},
          "output_type": "display_data"
        },
        {
          "data": {
            "application/vnd.jupyter.widget-view+json": {
              "model_id": "7020c4f16cf941528944294527157b81",
              "version_major": 2,
              "version_minor": 0
            },
            "text/plain": [
              "model-00027-of-00028.safetensors:   0%|          | 0.00/896M [00:00<?, ?B/s]"
            ]
          },
          "metadata": {},
          "output_type": "display_data"
        },
        {
          "data": {
            "application/vnd.jupyter.widget-view+json": {
              "model_id": "3dca4540212b4f7eb9cd556de68243bb",
              "version_major": 2,
              "version_minor": 0
            },
            "text/plain": [
              "model-00028-of-00028.safetensors:   0%|          | 0.00/518M [00:00<?, ?B/s]"
            ]
          },
          "metadata": {},
          "output_type": "display_data"
        },
        {
          "data": {
            "application/vnd.jupyter.widget-view+json": {
              "model_id": "f04b6f5da3c541068b66249f52a7f4a3",
              "version_major": 2,
              "version_minor": 0
            },
            "text/plain": [
              "Loading checkpoint shards:   0%|          | 0/28 [00:00<?, ?it/s]"
            ]
          },
          "metadata": {},
          "output_type": "display_data"
        },
        {
          "data": {
            "application/vnd.jupyter.widget-view+json": {
              "model_id": "0fb6a3450eaa4c5d8ac710501b89d631",
              "version_major": 2,
              "version_minor": 0
            },
            "text/plain": [
              "generation_config.json:   0%|          | 0.00/100 [00:00<?, ?B/s]"
            ]
          },
          "metadata": {},
          "output_type": "display_data"
        },
        {
          "data": {
            "application/vnd.jupyter.widget-view+json": {
              "model_id": "627a6e39be3a4ff29441dfa4b94f535e",
              "version_major": 2,
              "version_minor": 0
            },
            "text/plain": [
              "adapter_model.safetensors:   0%|          | 0.00/26.2M [00:00<?, ?B/s]"
            ]
          },
          "metadata": {},
          "output_type": "display_data"
        },
        {
          "data": {
            "application/vnd.jupyter.widget-view+json": {
              "model_id": "04218c4dc9af4a7097dabe62e022eab1",
              "version_major": 2,
              "version_minor": 0
            },
            "text/plain": [
              "tokenizer_config.json:   0%|          | 0.00/210 [00:00<?, ?B/s]"
            ]
          },
          "metadata": {},
          "output_type": "display_data"
        },
        {
          "data": {
            "application/vnd.jupyter.widget-view+json": {
              "model_id": "473cbbcd517c4c28973e771a27524712",
              "version_major": 2,
              "version_minor": 0
            },
            "text/plain": [
              "tokenizer.json:   0%|          | 0.00/1.65M [00:00<?, ?B/s]"
            ]
          },
          "metadata": {},
          "output_type": "display_data"
        },
        {
          "data": {
            "application/vnd.jupyter.widget-view+json": {
              "model_id": "2e9687bf707a476faa9dae475c681ad2",
              "version_major": 2,
              "version_minor": 0
            },
            "text/plain": [
              "special_tokens_map.json:   0%|          | 0.00/185 [00:00<?, ?B/s]"
            ]
          },
          "metadata": {},
          "output_type": "display_data"
        },
        {
          "name": "stderr",
          "output_type": "stream",
          "text": [
            "Special tokens have been added in the vocabulary, make sure the associated word embeddings are fine-tuned or trained.\n"
          ]
        },
        {
          "data": {
            "text/plain": [
              "PeftModelForCausalLM(\n",
              "  (base_model): LoraModel(\n",
              "    (model): GPTNeoXForCausalLM(\n",
              "      (gpt_neox): GPTNeoXModel(\n",
              "        (embed_in): Embedding(30080, 5120)\n",
              "        (emb_dropout): Dropout(p=0.0, inplace=False)\n",
              "        (layers): ModuleList(\n",
              "          (0-39): 40 x GPTNeoXLayer(\n",
              "            (input_layernorm): LayerNorm((5120,), eps=1e-05, elementwise_affine=True)\n",
              "            (post_attention_layernorm): LayerNorm((5120,), eps=1e-05, elementwise_affine=True)\n",
              "            (post_attention_dropout): Dropout(p=0.0, inplace=False)\n",
              "            (post_mlp_dropout): Dropout(p=0.0, inplace=False)\n",
              "            (attention): GPTNeoXAttention(\n",
              "              (rotary_emb): GPTNeoXRotaryEmbedding()\n",
              "              (query_key_value): lora.Linear4bit(\n",
              "                (base_layer): Linear4bit(in_features=5120, out_features=15360, bias=True)\n",
              "                (lora_dropout): ModuleDict(\n",
              "                  (default): Dropout(p=0.05, inplace=False)\n",
              "                )\n",
              "                (lora_A): ModuleDict(\n",
              "                  (default): Linear(in_features=5120, out_features=8, bias=False)\n",
              "                )\n",
              "                (lora_B): ModuleDict(\n",
              "                  (default): Linear(in_features=8, out_features=15360, bias=False)\n",
              "                )\n",
              "                (lora_embedding_A): ParameterDict()\n",
              "                (lora_embedding_B): ParameterDict()\n",
              "              )\n",
              "              (dense): Linear4bit(in_features=5120, out_features=5120, bias=True)\n",
              "              (attention_dropout): Dropout(p=0.0, inplace=False)\n",
              "            )\n",
              "            (mlp): GPTNeoXMLP(\n",
              "              (dense_h_to_4h): Linear4bit(in_features=5120, out_features=20480, bias=True)\n",
              "              (dense_4h_to_h): Linear4bit(in_features=20480, out_features=5120, bias=True)\n",
              "              (act): GELUActivation()\n",
              "            )\n",
              "          )\n",
              "        )\n",
              "        (final_layer_norm): LayerNorm((5120,), eps=1e-05, elementwise_affine=True)\n",
              "      )\n",
              "      (embed_out): Linear(in_features=5120, out_features=30080, bias=False)\n",
              "    )\n",
              "  )\n",
              ")"
            ]
          },
          "execution_count": 5,
          "metadata": {},
          "output_type": "execute_result"
        }
      ],
      "source": [
        "peft_model_id = \"Noveled/ssis\"\n",
        "config = PeftConfig.from_pretrained(peft_model_id)\n",
        "bnb_config = BitsAndBytesConfig(\n",
        "    load_in_4bit=True,\n",
        "    bnb_4bit_use_double_quant=True,\n",
        "    bnb_4bit_quant_type=\"nf4\",\n",
        "    bnb_4bit_compute_dtype=torch.bfloat16\n",
        ")\n",
        "model = AutoModelForCausalLM.from_pretrained(config.base_model_name_or_path, quantization_config=bnb_config, device_map={\"\":0})\n",
        "model = PeftModel.from_pretrained(model, peft_model_id)\n",
        "tokenizer = AutoTokenizer.from_pretrained(config.base_model_name_or_path)\n",
        "\n",
        "model.eval()"
      ]
    },
    {
      "cell_type": "code",
      "execution_count": null,
      "metadata": {
        "colab": {
          "background_save": true
        },
        "id": "0JBJKYJcfLuX"
      },
      "outputs": [],
      "source": [
        "def gen(x):\n",
        "    q = f\"### 질문: {x}\\n\\n### 답변:\"\n",
        "    # print(q)\n",
        "    gened = model.generate(\n",
        "        **tokenizer(\n",
        "            q,\n",
        "            return_tensors='pt',\n",
        "            return_token_type_ids=False\n",
        "        ).to('cuda'),\n",
        "        max_new_tokens=250,\n",
        "        early_stopping=True,\n",
        "        do_sample=True,\n",
        "        eos_token_id=2,\n",
        "    )\n",
        "    print(tokenizer.decode(gened[0]))"
      ]
    },
    {
      "cell_type": "code",
      "execution_count": null,
      "metadata": {
        "id": "55GdkP9afi6U"
      },
      "outputs": [],
      "source": [
        "gen('서울시가 역세권청년주택 민간임대 임대료를 시세의 75∼85% 수준까지 낮추고 주거 품질과 디자인을 향상한다. 또한 청년주택 공급을 늘리기 위해 사업 대상지를 역세권에 국한하지 않고 대중교통 이용이 편리한 간선도로변까지 확장한다. 이를 통해 2030년까지 청년주택 총 12만호를 공급할 계획이다. 서울시는 4일 시청에서 기자설명회를 열어 이런 내용을 담은 청년안심주택 추진방안을 발표했다. 2017년 시작한 역세권청년주택은 무주택 청년의 주거 안정을 위해 지하철역 350ｍ 이내 대중교통 이용이 편리한 곳을 중심으로 공급하는 임대주택이다. 시세보다 낮은 임대료로 최장 10년까지 살 수 있다. \\\n",
        "현재까지 서울 시내에 4만5천호가 공급됐다. 1만2천호는 입주가 이뤄졌고 2만2천호는 착공, 1만1천호는 사업 승인 상태다. 당초 시는 2026년까지 청년주택 6만5천호를 공급할 예정이었으나 높은 관심과 빠르게 늘어나는 수요에 맞춰 2030년까지 총 12만호를 공급한다는 목표를 세웠다. \\\n",
        "시는 입주자 주거비 부담을 줄이고자 청년안심주택 민간임대 임대료를 주변시세 85∼95% 수준에서 75∼85% 수준으로 10%포인트 낮추기로 했다. 보증금 선택 범위는 공공임대의 경우 2천∼3천만원에서 500만∼3천만원으로 확대하고, 민간 임대는 보증부 월세에 더해 전세를 도입한다. 보증금 무이자 지원도 최대 4천500만원에서 최대 6천만원까지 늘린다. \\\n",
        "또 입주자 모집 1년 전 주변 시세를 조사해 조사 결과를 공표하고, 공표 이후에는 의견 수렴과 청년주택 운영자문위원회 심사를 거쳐 임대료를 책정하기로 했다. 관리비도 10%포인트 낮춘다. 이를 위해 청년안심주택 내 주차장 유휴 공간 30∼40%를 유료로 개방하고 임차형 공유공간을 운영하는 등 수익 사업을 한다. \\\n",
        "시는 40% 유료 주차 시 세대당 1만2천원의 관리비 절감 효과가 있을 것으로 분석했다. 청년안심주택 입주자도 주차장 사용료를 납부하면 차량 이용을 허용한다. 기존에는 입주자 중 유자녀·장애인·생계형만 차량 소유·운행이 가능했다. \\\n",
        "입지는 기존 역세권에서 간선도로변까지 확장하기로 하고, 5월 중 조례 개정을 추진한다. 간선도로변 개발 기준을 도로 경계로부터 50ｍ 내외로 한정하고 용도지역도 준주거지역을 원칙으로 해 이면부가 고밀개발 되는 부작용을 막는다. 이미 충분히 개발된 간선도로변은 상업지역 상향을 일부 허용한다.\\\n",
        "이 내용을 바탕으로 청년주택 민간임대료가 얼마나 낮아지는지 알려줘.')"
      ]
    },
    {
      "cell_type": "code",
      "execution_count": null,
      "metadata": {
        "colab": {
          "base_uri": "https://localhost:8080/"
        },
        "id": "8JaD2vpPfkuU",
        "outputId": "f926dde1-077e-48f0-b533-b0f8a0c4c228"
      },
      "outputs": [
        {
          "name": "stderr",
          "output_type": "stream",
          "text": [
            "/usr/local/lib/python3.10/dist-packages/transformers/generation/configuration_utils.py:430: UserWarning: `num_beams` is set to 1. However, `early_stopping` is set to `True` -- this flag is only used in beam-based generation modes. You should set `num_beams>1` or unset `early_stopping`.\n",
            "  warnings.warn(\n",
            "Setting `pad_token_id` to `eos_token_id`:2 for open-end generation.\n"
          ]
        },
        {
          "name": "stdout",
          "output_type": "stream",
          "text": [
            "### 질문: 저는 종로구에서 자영업을 하고 있는데 연매출이 1억 7천만 원 조금 넘어요. 그래도 국민내일배움카드제 서비스를 받을 수 있나요?\n",
            "\n",
            "### 답변: 네, 국민내일배움카드제를 이용하셔서 연매출이 1억 7천만 원에서 3억 4천만 원 사이인 자영업자의 경우 매출액을 제외한 조건들을 충족한다면 훈련 수강을 신청하실 수 있습니다. 다만, 지원 대상이 한정되어 있으니 고용센터나 HRD-Net을 통해 알아보세요. 이와 관련한 제도는 국민내일배움카드제입니다. 참고해주세요.[출처] 국민내일배움카드제 누리집 [관련뉴스](클릭 시 해당 기사로 이동) - 자영업자·특수형태근로 종사자, 디지털·신기술 훈련을 받을 수 있어! (한국산업인력공단) - 한국형 국민내일배움카드제 도입 (2021년 1월 1일부터 시행) | 작성자 고용노동부블로그[출처] 국민내일배움카드제 누리집 - 자영업자·특수형태근로 종사자, 디지털·신기술 훈련을 받을 수 있어! (한국산업인력공단) | 작성자 고용노동부블로그[출처] 국민내일배움카드제 누리집 - 코로나 시대 훈련상담 챗봇 서비스 도입 (2021년 5월) | 작성자 고용노동부블로그[출\n"
          ]
        }
      ],
      "source": [
        "gen('저는 종로구에서 자영업을 하고 있는데 연매출이 1억 7천만 원 조금 넘어요. 그래도 국민내일배움카드제 서비스를 받을 수 있나요?')"
      ]
    },
    {
      "cell_type": "code",
      "execution_count": null,
      "metadata": {
        "colab": {
          "base_uri": "https://localhost:8080/"
        },
        "id": "EnwpjBRAymIR",
        "outputId": "a3f63357-4562-4efe-d6b1-42f2e0f75a08"
      },
      "outputs": [
        {
          "name": "stderr",
          "output_type": "stream",
          "text": [
            "Setting `pad_token_id` to `eos_token_id`:2 for open-end generation.\n"
          ]
        },
        {
          "name": "stdout",
          "output_type": "stream",
          "text": [
            "### 질문: 국민내일배움카드제 서비스는 지원대상 국민 누구나 신청 가능하지만, 현직 공무원, 사립학교 교직원, 졸업예정학년이 아닌 고등학교 재학생, 졸업까지의 수업연한이 2년을 초과하여 남은 대학 재학생, 연 매출 1억 5천만원 이상의 자영업자, 월 임금 300만원 이상인 대규모기업종사자(45세 미만), 월평균소득 300만원 이상인 특수형태근로종사자 등은 제외됩니다. 라는 내용을 기반으로 저는 종로구에서 자영업을 하고 있는데 연매출이 1억 7천만 원 조금 넘어요. 그래도 국민내일배움카드제 서비스를 받을 수 있나요? 라는 질문에 답변해줘.\n",
            "\n",
            "### 답변: 네, 국민내일배움카드제 서비스를 받을 수 있지만 연 매출 1억 7천만 원 이상의 자영업자는 지원대상에서 제외됩니다. 이와 관련한 제도는 국민내일배움카드제입니다. 참고해주세요. 이와 관련한 제도는 국민내일배움카드제입니다. 참고해주세요.으리라고 생각됩니다. 이와 관련한 기타 내용이나 상세한 문의는 인근 관할 고용센터나 HRD콜센터에 문의를 해보는 게 좋겠습니다.[관련 정보]ECDL(국한문/한자) 시험 안내내일 배움 카드 발급 방법근로자 훈련 생계비 대부 지원제도 안내. 공유하기 글 요소<|endoftext|>\n"
          ]
        }
      ],
      "source": [
        "gen('국민내일배움카드제 서비스는 지원대상 국민 누구나 신청 가능하지만, 현직 공무원, 사립학교 교직원, 졸업예정학년이 아닌 고등학교 재학생, 졸업까지의 수업연한이 2년을 초과하여 남은 대학 재학생, \\\n",
        "     연 매출 1억 5천만원 이상의 자영업자, 월 임금 300만원 이상인 대규모기업종사자(45세 미만), 월평균소득 300만원 이상인 특수형태근로종사자 등은 제외됩니다. \\\n",
        "     라는 내용을 기반으로 저는 종로구에서 자영업을 하고 있는데 연매출이 1억 7천만 원 조금 넘어요. 그래도 국민내일배움카드제 서비스를 받을 수 있나요? 라는 질문에 답변해줘.')"
      ]
    },
    {
      "cell_type": "code",
      "execution_count": null,
      "metadata": {
        "colab": {
          "base_uri": "https://localhost:8080/"
        },
        "id": "MuKERY0U8Kwu",
        "outputId": "02523854-16bb-4551-dda7-bbeec6270201"
      },
      "outputs": [
        {
          "name": "stderr",
          "output_type": "stream",
          "text": [
            "Setting `pad_token_id` to `eos_token_id`:2 for open-end generation.\n"
          ]
        },
        {
          "name": "stdout",
          "output_type": "stream",
          "text": [
            "### 질문: 푸른등대 삼성기부장학금에 대한 설명은 다음과 같아. 1. 지원대상: 대한민국 국적의 국내 4년제 및 전문 대학교 재학생(신입생 포함, 초과학기 제외) 2. 신청자격 : ’23-1학기 학자금지원구간 3구간 이하인 사회적 배려계층 가정의 대학생 (장애인가정, 새터민(탈북주민) 가정, 가정외보호 시설 출신자, 학생가장 본인, 조손가정 자녀, 기초생활수급자·차상위계층 가정의 본인 또는 자녀, ｢한부모가족지원법｣에 따라 한부모가족 증명서 발급 가능한 자, 다문화가정, ) (23년 1학기 푸른등대 기부장학금 장학생은 추천 불가)     3. 지원내용: 학기당 150만 원 지원(생활비 무상보조, 정액지원)(2개 학기 지원) 4. 제출서류: 학자금지원구간 통지서(소득분위 증명서) 1부, 5번 항목의 추가서류 중 본인이 해당되는 서류 1부, 자기소개서 1부(A4 2장 이상, 자유양식, 배정인원보다 지원자가 더 많을 경우 심사 자료로 사용될 예정), 이를 기반으로 푸른등대 삼성기부장학금을 신청하기 위한 신청자격을 알려줘.\n",
            "\n",
            "### 답변: 지원대상은 대한민국 국적의 국내 4년제 및 전문 대학교 재학생(신입생 포함, 초과학기 제외)이며, 신청자격은 ’23-1학기 학자금지원구간 3구간 이하인 사회적 배려계층 가정의 대학생(장애인가정, 새터민(탈북주민) 가정, 학생가장 본인, 조손가정 자녀, 기초생활수급자·차상위계층 가정의 본인 또는 자녀, ｢한부모가족지원법｡에 따라 한부모가족 증명서 발급 가능한 자, 다문화가정,)으로 23년 1학기 푸른등대 기부장학금 장학금 지원대상자입니다. 해당자는 대학에 공지된 지원기준과 추가 서류를 확인하여 신청하시기 바랍니다. 이와 관련한 제도는 푸른등대 기부장학금입니다. 참고해주세요. 추가적인 정보는 한국장학재단 홈페이지(https://www.kosaf.go.kr) 를 방문하시거나 전화로 문의하시면 빠릅니다. 감사합니다. 교육부 블로그 기자단 이유림(cutetnwls@naver.com)---------------------------------------------------------------------------------------------------------------​ ​※ 더 자세한 정보를 원하시면 에서 확인\n"
          ]
        }
      ],
      "source": [
        "gen('푸른등대 삼성기부장학금에 대한 설명은 다음과 같아. \\\n",
        "    1. 지원대상: 대한민국 국적의 국내 4년제 및 전문 대학교 재학생(신입생 포함, 초과학기 제외) 2. 신청자격 : ’23-1학기 학자금지원구간 3구간 이하인 사회적 배려계층 가정의 대학생 \\\n",
        "    (장애인가정, 새터민(탈북주민) 가정, 가정외보호 시설 출신자, 학생가장 본인, 조손가정 자녀, 기초생활수급자·차상위계층 가정의 본인 또는 자녀, \\\n",
        "    ｢한부모가족지원법｣에 따라 한부모가족 증명서 발급 가능한 자, 다문화가정, ) (23년 1학기 푸른등대 기부장학금 장학생은 추천 불가)     \\\n",
        "    3. 지원내용: 학기당 150만 원 지원(생활비 무상보조, 정액지원)(2개 학기 지원) \\\n",
        "    4. 제출서류: 학자금지원구간 통지서(소득분위 증명서) 1부, 5번 항목의 추가서류 중 본인이 해당되는 서류 1부, \\\n",
        "    자기소개서 1부(A4 2장 이상, 자유양식, 배정인원보다 지원자가 더 많을 경우 심사 자료로 사용될 예정), 이를 기반으로 푸른등대 삼성기부장학금을 신청하기 위한 신청자격을 알려줘.')"
      ]
    },
    {
      "cell_type": "code",
      "execution_count": null,
      "metadata": {
        "id": "w6X3Ucrw8LA6"
      },
      "outputs": [],
      "source": []
    }
  ],
  "metadata": {
    "accelerator": "GPU",
    "colab": {
      "provenance": []
    },
    "kernelspec": {
      "display_name": "Python 3",
      "name": "python3"
    },
    "language_info": {
      "name": "python"
    }
  },
  "nbformat": 4,
  "nbformat_minor": 0
}